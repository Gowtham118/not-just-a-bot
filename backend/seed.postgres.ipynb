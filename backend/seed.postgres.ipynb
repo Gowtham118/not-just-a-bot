{
 "cells": [
  {
   "cell_type": "code",
   "execution_count": 1,
   "metadata": {},
   "outputs": [],
   "source": [
    "import random\n",
    "import psycopg2\n",
    "import string\n",
    "from faker import Faker\n",
    "from psycopg2.extras import execute_values"
   ]
  },
  {
   "cell_type": "code",
   "execution_count": 78,
   "metadata": {},
   "outputs": [],
   "source": [
    "\n",
    "\n",
    "# print(values)\n",
    "# # Connect to the PostgreSQL database\n",
    "\n"
   ]
  },
  {
   "cell_type": "code",
   "execution_count": 2,
   "metadata": {},
   "outputs": [],
   "source": [
    "conn = psycopg2.connect(\n",
    "    host=\"containers-us-west-25.railway.app\",\n",
    "    port=\"7582\",\n",
    "    database=\"railway\",\n",
    "    user=\"postgres\",\n",
    "    password=\"hxB7oDUyBZs9xsuwgIIj\"\n",
    ")"
   ]
  },
  {
   "cell_type": "code",
   "execution_count": 80,
   "metadata": {},
   "outputs": [
    {
     "name": "stdout",
     "output_type": "stream",
     "text": [
      "ADDEDD 3000 records to database successfully\n"
     ]
    }
   ],
   "source": [
    "# Open a cursor to perform database operations\n",
    "\n",
    "\n",
    "\n",
    "\n",
    "cur = conn.cursor()\n",
    "\n",
    "# Define the SQL INSERT statement\n",
    "insert_statement = \"\"\"\n",
    "    INSERT INTO Predb (Item, Type, CaseType, Context)\n",
    "    VALUES (%s, %s, %s, %s)\n",
    "\"\"\"\n",
    "\n",
    "\n",
    "# Execute the SQL INSERT statement with the values to insert\n",
    "cur.executemany(insert_statement, values)\n",
    "\n",
    "print(f\"ADDEDD {len(values) } records to database successfully\")\n",
    "# Commit the transaction to the database\n",
    "conn.commit()\n",
    "\n",
    "# Close the cursor and connection\n",
    "cur.close()\n",
    "conn.close()\n"
   ]
  },
  {
   "cell_type": "code",
   "execution_count": 2,
   "metadata": {},
   "outputs": [
    {
     "name": "stdout",
     "output_type": "stream",
     "text": [
      "Hacking Nasa 10%\n",
      "Hacking Nasa 20%\n",
      "Hacking Nasa 30%\n",
      "Hacking Nasa 40%\n",
      "Hacking Nasa 50%\n",
      "Hacking Nasa 60%\n",
      "Hacking Nasa 70%\n",
      "Hacking Nasa 80%\n",
      "Hacking Nasa 90%\n",
      "Hacking Nasa 100%\n",
      "Access Granted\n"
     ]
    }
   ],
   "source": [
    "from time import sleep\n",
    "for i in range(1 , 11):\n",
    "    print(f\"Hacking Nasa {i}0%\")\n",
    "    sleep(3)\n",
    "print(\"Access Granted\")"
   ]
  },
  {
   "cell_type": "code",
   "execution_count": 3,
   "metadata": {},
   "outputs": [],
   "source": [
    "import random\n",
    "import psycopg2\n",
    "\n",
    "# Connect to database\n",
    "conn = psycopg2.connect(\n",
    "    host=\"containers-us-west-25.railway.app\",\n",
    "    port=\"7582\",\n",
    "    database=\"railway\",\n",
    "    user=\"postgres\",\n",
    "    password=\"hxB7oDUyBZs9xsuwgIIj\"\n",
    ")\n",
    "\n",
    "# Open a cursor to perform database operations\n",
    "cur = conn.cursor()\n",
    "from datetime import datetime\n",
    "\n",
    "# Generate random users and items\n",
    "for i in range(10):  # Change to the number of users you want to generate\n",
    "    # Generate random username and password\n",
    "    username = ''.join(random.choices('abcdefghijklmnopqrstuvwxyz', k=10))\n",
    "    password = ''.join(random.choices('abcdefghijklmnopqrstuvwxyz', k=10))\n",
    "    # Insert user into database\n",
    "    cur.execute(f\"INSERT INTO usertable (updatedAt ,username, password, phnum, userverifed) VALUES ('{datetime.now().strftime('%Y-%m-%d %H:%M:%S')}' ,  '{username}', '{password}', '{phnum}', {userverifed})\")\n",
    "    # Generate random items for this user\n",
    "    for j in range(5):  # Change to the number of items you want to generate for each user\n",
    "        # Generate random item and interactions\n",
    "        item = ''\n",
    "        if random.choice([True, False]):\n",
    "            item = '09' + ''.join(random.choices('0123456789', k=8))\n",
    "            item_type = 'Mobile'\n",
    "        else:\n",
    "            item = ''.join(random.choices('abcdefghijklmnopqrstuvwxyz', k=5)).upper()\n",
    "            item_type = 'Sms'\n",
    "        interactions = random.randint(1, 100)\n",
    "        # Insert item into database and establish many-to-many relationship\n",
    "        cur.execute(f\"INSERT INTO items (item, type, interactions) VALUES ('{item}', '{item_type}', {interactions}) RETURNING id\")\n",
    "        # item_id = cur.fetchone()[0]\n",
    "\n",
    "# Commit changes\n",
    "\n",
    "\n",
    "conn.commit()\n",
    "\n",
    "# close cursor \n",
    "cur.close()\n",
    "\n",
    "# close connection \n",
    "conn.close()\n"
   ]
  },
  {
   "cell_type": "code",
   "execution_count": null,
   "metadata": {
    "vscode": {
     "languageId": "javascript"
    }
   },
   "outputs": [],
   "source": []
  }
 ],
 "metadata": {
  "kernelspec": {
   "display_name": "Python 3",
   "language": "python",
   "name": "python3"
  },
  "language_info": {
   "codemirror_mode": {
    "name": "ipython",
    "version": 3
   },
   "file_extension": ".py",
   "mimetype": "text/x-python",
   "name": "python",
   "nbconvert_exporter": "python",
   "pygments_lexer": "ipython3",
   "version": "3.9.1"
  },
  "orig_nbformat": 4
 },
 "nbformat": 4,
 "nbformat_minor": 2
}
